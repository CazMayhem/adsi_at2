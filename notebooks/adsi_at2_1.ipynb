{
 "cells": [
  {
   "cell_type": "markdown",
   "metadata": {},
   "source": [
    "## Advanced DS for Innovation\n",
    "\n",
    "### Neural Networks & Heroku\n",
    "\n",
    "The steps are:\n",
    "\n",
    "    Setup Repository\n",
    "    Load and Explore Dataset\n",
    "    Prepare Data\n",
    "    Baseline Model\n",
    "    Define Architecture\n",
    "    Create Data Loader\n",
    "    Train Model\n",
    "    Assess Performance\n",
    "    Push Changes\n"
   ]
  },
  {
   "cell_type": "markdown",
   "metadata": {},
   "source": [
    "## 1. Setup Repository\n",
    "\n",
    "**[1.1]** Go to a folder of your choice on your computer (where you store projects)\n",
    "\n",
    "**[1.2]** Copy the cookiecutter data science template - answer `yes` to replace\n",
    "- Follow the prompt (name the project and repo adv_dsi_lab_6)\n",
    "\n",
    "**[1.3]** Go inside the created folder `adsi_at2`"
   ]
  },
  {
   "cell_type": "code",
   "execution_count": null,
   "metadata": {},
   "outputs": [],
   "source": [
    "# Go to a folder of your choice on your computer (where you store projects)\n",
    "cd ~/Projects/\n",
    "\n",
    "# Copy the cookiecutter data science template - anser 'yes' to replace\n",
    "cookiecutter -c v1 https://github.com/drivendata/cookiecutter-data-science\n",
    "    \n",
    "# answer: yes\n",
    "# project name: adsi_at2\n",
    "\n",
    "# Go inside the created folder adsi_at2\n",
    "cd adsi_at2"
   ]
  },
  {
   "cell_type": "markdown",
   "metadata": {},
   "source": [
    "**[1.4]** Create a file called `Dockerfile` and add the following content:\n",
    "\n",
    "`FROM jupyter/scipy-notebook:0ce64578df46`\n",
    "\n",
    "`RUN pip install torch==1.9.0+cpu torchvision==0.10.0+cpu torchtext==0.10.0 -f https://download.pytorch.org/whl/torch_stable.html`\n",
    "\n",
    "`ENV PYTHONPATH \"${PYTHONPATH}:/home/jovyan/work\"`\n",
    "\n",
    "`RUN echo \"export PYTHONPATH=/home/jovyan/work\" >> ~/.bashrc`\n",
    "\n",
    "`WORKDIR /home/jovyan/work`\n"
   ]
  },
  {
   "cell_type": "markdown",
   "metadata": {},
   "source": [
    "**[1.5]** Build the image from this Dockerfile\n",
    "\n",
    "- Documentation: https://docs.docker.com/engine/reference/commandline/build/\n",
    "\n",
    "**[1.6]** Run the built image\n",
    "\n",
    "**[1.7]** Display last 50 lines of logs<br>\n",
    "- Copy the url displayed and paste it to a browser in order to launch Jupyter Lab"
   ]
  },
  {
   "cell_type": "code",
   "execution_count": null,
   "metadata": {},
   "outputs": [],
   "source": [
    "# Build the image from this Dockerfile\n",
    "docker build -t pytorch-notebook:latest .\n",
    "    \n",
    "# Run the built image\n",
    "docker run  -dit --rm --name adsi_at2 -p 8888:8888 -e JUPYTER_ENABLE_LAB=yes -v ~/Projects/adv_dsi/adsi_at2:/home/jovyan/work  -v ~/Projects/adv_dsi/src:/home/jovyan/work/src -v ~/Projects/adv_dsi/data:/home/jovyan/work/data pytorch-notebook:latest \n",
    "                    \n",
    "# Display last 50 lines of logs\n",
    "docker logs --tail 50 adsi_at2"
   ]
  },
  {
   "cell_type": "markdown",
   "metadata": {},
   "source": [
    "**[1.8]** Initialise the repo\n",
    "\n",
    "**[1.9]** Login into Github with your account (https://github.com/) and create a public repo with the name `adsi_at2`\n",
    "\n",
    "**[1.10]** In your local repo `adsi_at2`, link it with Github (replace the url with your username)\n",
    "\n",
    "**[1.11]** Add you changes to git staging area and commit them\n",
    "\n",
    "**[1.12]** Push your master branch to origin\n",
    "\n",
    "**[1.13]** Preventing push to `master` branch\n",
    "\n",
    "**[1.14]** Create a new git branch called `pytorch_multi`\n",
    "\n"
   ]
  },
  {
   "cell_type": "code",
   "execution_count": null,
   "metadata": {},
   "outputs": [],
   "source": [
    "\"\"\"\n",
    "# Initialise the repo\n",
    "git init\n",
    "\n",
    "# Login into Github with your account (https://github.com/) and create a public repo with the name `adsi_at2`\n",
    "\n",
    "# Link repo with Github\n",
    "git remote add origin git@github.com:CazMayhem/adsi_at2.git\n",
    "\n",
    "# Add you changes to git staging area and commit them\n",
    "git add .\n",
    "git commit -m \"init\"\n",
    "\n",
    "# Push your master branch to origin\n",
    "git push https://<insert_pat>@github.com/CazMayhem/adsi_at2.git --set-upstream origin master\n",
    "\n",
    "# Preventing push to master branch\n",
    "git config branch.master.pushRemote no_push\n",
    "\n",
    "# Create a new git branch called pytorch_mnist\n",
    "git checkout -b pytorch_multi_class\n",
    "\"\"\""
   ]
  },
  {
   "cell_type": "markdown",
   "metadata": {},
   "source": [
    "### 2.   Load and Explore Dataset\n",
    "\n",
    "**[2.1]** Launch the magic commands for auto-relaoding external modules"
   ]
  },
  {
   "cell_type": "code",
   "execution_count": 61,
   "metadata": {},
   "outputs": [
    {
     "name": "stdout",
     "output_type": "stream",
     "text": [
      "The autoreload extension is already loaded. To reload it, use:\n",
      "  %reload_ext autoreload\n"
     ]
    }
   ],
   "source": [
    "# Launch the magic commands for auto-relaoding external modules\n",
    "%load_ext autoreload\n",
    "%autoreload 2"
   ]
  },
  {
   "cell_type": "markdown",
   "metadata": {},
   "source": [
    "**[2.2]** Import the pandas and numpy packages\n",
    "\n",
    "**[2.3]** Create a variable called `file_url` containing th url to the raw dataset\n",
    "\n",
    "**[2.4]** Load the data in a dataframe called `df`\n",
    "\n",
    "**[2.5]** Display the first 5 rows of df"
   ]
  },
  {
   "cell_type": "code",
   "execution_count": 62,
   "metadata": {},
   "outputs": [
    {
     "data": {
      "text/html": [
       "<div>\n",
       "<style scoped>\n",
       "    .dataframe tbody tr th:only-of-type {\n",
       "        vertical-align: middle;\n",
       "    }\n",
       "\n",
       "    .dataframe tbody tr th {\n",
       "        vertical-align: top;\n",
       "    }\n",
       "\n",
       "    .dataframe thead th {\n",
       "        text-align: right;\n",
       "    }\n",
       "</style>\n",
       "<table border=\"1\" class=\"dataframe\">\n",
       "  <thead>\n",
       "    <tr style=\"text-align: right;\">\n",
       "      <th></th>\n",
       "      <th>brewery_id</th>\n",
       "      <th>brewery_name</th>\n",
       "      <th>review_time</th>\n",
       "      <th>review_overall</th>\n",
       "      <th>review_aroma</th>\n",
       "      <th>review_appearance</th>\n",
       "      <th>review_profilename</th>\n",
       "      <th>beer_style</th>\n",
       "      <th>review_palate</th>\n",
       "      <th>review_taste</th>\n",
       "      <th>beer_name</th>\n",
       "      <th>beer_abv</th>\n",
       "      <th>beer_beerid</th>\n",
       "    </tr>\n",
       "  </thead>\n",
       "  <tbody>\n",
       "    <tr>\n",
       "      <th>0</th>\n",
       "      <td>10325</td>\n",
       "      <td>Vecchio Birraio</td>\n",
       "      <td>1234817823</td>\n",
       "      <td>1.5</td>\n",
       "      <td>2.0</td>\n",
       "      <td>2.5</td>\n",
       "      <td>stcules</td>\n",
       "      <td>Hefeweizen</td>\n",
       "      <td>1.5</td>\n",
       "      <td>1.5</td>\n",
       "      <td>Sausa Weizen</td>\n",
       "      <td>5.0</td>\n",
       "      <td>47986</td>\n",
       "    </tr>\n",
       "    <tr>\n",
       "      <th>1</th>\n",
       "      <td>10325</td>\n",
       "      <td>Vecchio Birraio</td>\n",
       "      <td>1235915097</td>\n",
       "      <td>3.0</td>\n",
       "      <td>2.5</td>\n",
       "      <td>3.0</td>\n",
       "      <td>stcules</td>\n",
       "      <td>English Strong Ale</td>\n",
       "      <td>3.0</td>\n",
       "      <td>3.0</td>\n",
       "      <td>Red Moon</td>\n",
       "      <td>6.2</td>\n",
       "      <td>48213</td>\n",
       "    </tr>\n",
       "    <tr>\n",
       "      <th>2</th>\n",
       "      <td>10325</td>\n",
       "      <td>Vecchio Birraio</td>\n",
       "      <td>1235916604</td>\n",
       "      <td>3.0</td>\n",
       "      <td>2.5</td>\n",
       "      <td>3.0</td>\n",
       "      <td>stcules</td>\n",
       "      <td>Foreign / Export Stout</td>\n",
       "      <td>3.0</td>\n",
       "      <td>3.0</td>\n",
       "      <td>Black Horse Black Beer</td>\n",
       "      <td>6.5</td>\n",
       "      <td>48215</td>\n",
       "    </tr>\n",
       "    <tr>\n",
       "      <th>3</th>\n",
       "      <td>10325</td>\n",
       "      <td>Vecchio Birraio</td>\n",
       "      <td>1234725145</td>\n",
       "      <td>3.0</td>\n",
       "      <td>3.0</td>\n",
       "      <td>3.5</td>\n",
       "      <td>stcules</td>\n",
       "      <td>German Pilsener</td>\n",
       "      <td>2.5</td>\n",
       "      <td>3.0</td>\n",
       "      <td>Sausa Pils</td>\n",
       "      <td>5.0</td>\n",
       "      <td>47969</td>\n",
       "    </tr>\n",
       "    <tr>\n",
       "      <th>4</th>\n",
       "      <td>1075</td>\n",
       "      <td>Caldera Brewing Company</td>\n",
       "      <td>1293735206</td>\n",
       "      <td>4.0</td>\n",
       "      <td>4.5</td>\n",
       "      <td>4.0</td>\n",
       "      <td>johnmichaelsen</td>\n",
       "      <td>American Double / Imperial IPA</td>\n",
       "      <td>4.0</td>\n",
       "      <td>4.5</td>\n",
       "      <td>Cauldron DIPA</td>\n",
       "      <td>7.7</td>\n",
       "      <td>64883</td>\n",
       "    </tr>\n",
       "  </tbody>\n",
       "</table>\n",
       "</div>"
      ],
      "text/plain": [
       "   brewery_id             brewery_name  review_time  review_overall  \\\n",
       "0       10325          Vecchio Birraio   1234817823             1.5   \n",
       "1       10325          Vecchio Birraio   1235915097             3.0   \n",
       "2       10325          Vecchio Birraio   1235916604             3.0   \n",
       "3       10325          Vecchio Birraio   1234725145             3.0   \n",
       "4        1075  Caldera Brewing Company   1293735206             4.0   \n",
       "\n",
       "   review_aroma  review_appearance review_profilename  \\\n",
       "0           2.0                2.5            stcules   \n",
       "1           2.5                3.0            stcules   \n",
       "2           2.5                3.0            stcules   \n",
       "3           3.0                3.5            stcules   \n",
       "4           4.5                4.0     johnmichaelsen   \n",
       "\n",
       "                       beer_style  review_palate  review_taste  \\\n",
       "0                      Hefeweizen            1.5           1.5   \n",
       "1              English Strong Ale            3.0           3.0   \n",
       "2          Foreign / Export Stout            3.0           3.0   \n",
       "3                 German Pilsener            2.5           3.0   \n",
       "4  American Double / Imperial IPA            4.0           4.5   \n",
       "\n",
       "                beer_name  beer_abv  beer_beerid  \n",
       "0            Sausa Weizen       5.0        47986  \n",
       "1                Red Moon       6.2        48213  \n",
       "2  Black Horse Black Beer       6.5        48215  \n",
       "3              Sausa Pils       5.0        47969  \n",
       "4           Cauldron DIPA       7.7        64883  "
      ]
     },
     "execution_count": 62,
     "metadata": {},
     "output_type": "execute_result"
    }
   ],
   "source": [
    "# import the pandas and numpy packages\n",
    "import pandas as pd\n",
    "import numpy as np\n",
    "import time\n",
    "\n",
    "# only download once - link does not work here, download locally then move to ../data/raw\n",
    "# !wget -P ../data/raw https://drive.google.com/file/d/1vYyJL_IB6KjKCxuk9kg4vIMPGTtoX8Ek/view?usp=sharing\n",
    "\n",
    "# Load the data in a dataframe called df\n",
    "df = pd.read_csv('../data/raw/beer_reviews.csv')   \n",
    "\n",
    "# Display the first 5 rows of df\n",
    "df.head() "
   ]
  },
  {
   "cell_type": "markdown",
   "metadata": {},
   "source": [
    "**[2.6]** Display the dimensions (shape) of df"
   ]
  },
  {
   "cell_type": "code",
   "execution_count": 3,
   "metadata": {},
   "outputs": [
    {
     "data": {
      "text/plain": [
       "(1586614, 13)"
      ]
     },
     "execution_count": 3,
     "metadata": {},
     "output_type": "execute_result"
    }
   ],
   "source": [
    "# Display the dimensions (shape) of df\n",
    "df.shape"
   ]
  },
  {
   "cell_type": "markdown",
   "metadata": {},
   "source": [
    "**[2.7]** Display the summary (info) of df"
   ]
  },
  {
   "cell_type": "code",
   "execution_count": 4,
   "metadata": {},
   "outputs": [
    {
     "name": "stdout",
     "output_type": "stream",
     "text": [
      "<class 'pandas.core.frame.DataFrame'>\n",
      "RangeIndex: 1586614 entries, 0 to 1586613\n",
      "Data columns (total 13 columns):\n",
      "brewery_id            1586614 non-null int64\n",
      "brewery_name          1586599 non-null object\n",
      "review_time           1586614 non-null int64\n",
      "review_overall        1586614 non-null float64\n",
      "review_aroma          1586614 non-null float64\n",
      "review_appearance     1586614 non-null float64\n",
      "review_profilename    1586266 non-null object\n",
      "beer_style            1586614 non-null object\n",
      "review_palate         1586614 non-null float64\n",
      "review_taste          1586614 non-null float64\n",
      "beer_name             1586614 non-null object\n",
      "beer_abv              1518829 non-null float64\n",
      "beer_beerid           1586614 non-null int64\n",
      "dtypes: float64(6), int64(3), object(4)\n",
      "memory usage: 157.4+ MB\n"
     ]
    }
   ],
   "source": [
    "# Display the summary (info) of df\n",
    "df.info()"
   ]
  },
  {
   "cell_type": "markdown",
   "metadata": {},
   "source": [
    "**[2.8]** Display the descriptive statistics of df"
   ]
  },
  {
   "cell_type": "code",
   "execution_count": 45,
   "metadata": {},
   "outputs": [
    {
     "data": {
      "text/html": [
       "<div>\n",
       "<style scoped>\n",
       "    .dataframe tbody tr th:only-of-type {\n",
       "        vertical-align: middle;\n",
       "    }\n",
       "\n",
       "    .dataframe tbody tr th {\n",
       "        vertical-align: top;\n",
       "    }\n",
       "\n",
       "    .dataframe thead th {\n",
       "        text-align: right;\n",
       "    }\n",
       "</style>\n",
       "<table border=\"1\" class=\"dataframe\">\n",
       "  <thead>\n",
       "    <tr style=\"text-align: right;\">\n",
       "      <th></th>\n",
       "      <th>brewery_id</th>\n",
       "      <th>review_time</th>\n",
       "      <th>review_overall</th>\n",
       "      <th>review_aroma</th>\n",
       "      <th>review_appearance</th>\n",
       "      <th>review_palate</th>\n",
       "      <th>review_taste</th>\n",
       "      <th>beer_abv</th>\n",
       "      <th>beer_beerid</th>\n",
       "    </tr>\n",
       "  </thead>\n",
       "  <tbody>\n",
       "    <tr>\n",
       "      <th>count</th>\n",
       "      <td>1.586614e+06</td>\n",
       "      <td>1.586614e+06</td>\n",
       "      <td>1.586614e+06</td>\n",
       "      <td>1.586614e+06</td>\n",
       "      <td>1.586614e+06</td>\n",
       "      <td>1.586614e+06</td>\n",
       "      <td>1.586614e+06</td>\n",
       "      <td>1.518829e+06</td>\n",
       "      <td>1.586614e+06</td>\n",
       "    </tr>\n",
       "    <tr>\n",
       "      <th>mean</th>\n",
       "      <td>3.130099e+03</td>\n",
       "      <td>1.224089e+09</td>\n",
       "      <td>3.815581e+00</td>\n",
       "      <td>3.735636e+00</td>\n",
       "      <td>3.841642e+00</td>\n",
       "      <td>3.743701e+00</td>\n",
       "      <td>3.792860e+00</td>\n",
       "      <td>7.042387e+00</td>\n",
       "      <td>2.171279e+04</td>\n",
       "    </tr>\n",
       "    <tr>\n",
       "      <th>std</th>\n",
       "      <td>5.578104e+03</td>\n",
       "      <td>7.654427e+07</td>\n",
       "      <td>7.206219e-01</td>\n",
       "      <td>6.976167e-01</td>\n",
       "      <td>6.160928e-01</td>\n",
       "      <td>6.822184e-01</td>\n",
       "      <td>7.319696e-01</td>\n",
       "      <td>2.322526e+00</td>\n",
       "      <td>2.181834e+04</td>\n",
       "    </tr>\n",
       "    <tr>\n",
       "      <th>min</th>\n",
       "      <td>1.000000e+00</td>\n",
       "      <td>8.406720e+08</td>\n",
       "      <td>0.000000e+00</td>\n",
       "      <td>1.000000e+00</td>\n",
       "      <td>0.000000e+00</td>\n",
       "      <td>1.000000e+00</td>\n",
       "      <td>1.000000e+00</td>\n",
       "      <td>1.000000e-02</td>\n",
       "      <td>3.000000e+00</td>\n",
       "    </tr>\n",
       "    <tr>\n",
       "      <th>25%</th>\n",
       "      <td>1.430000e+02</td>\n",
       "      <td>1.173224e+09</td>\n",
       "      <td>3.500000e+00</td>\n",
       "      <td>3.500000e+00</td>\n",
       "      <td>3.500000e+00</td>\n",
       "      <td>3.500000e+00</td>\n",
       "      <td>3.500000e+00</td>\n",
       "      <td>5.200000e+00</td>\n",
       "      <td>1.717000e+03</td>\n",
       "    </tr>\n",
       "    <tr>\n",
       "      <th>50%</th>\n",
       "      <td>4.290000e+02</td>\n",
       "      <td>1.239203e+09</td>\n",
       "      <td>4.000000e+00</td>\n",
       "      <td>4.000000e+00</td>\n",
       "      <td>4.000000e+00</td>\n",
       "      <td>4.000000e+00</td>\n",
       "      <td>4.000000e+00</td>\n",
       "      <td>6.500000e+00</td>\n",
       "      <td>1.390600e+04</td>\n",
       "    </tr>\n",
       "    <tr>\n",
       "      <th>75%</th>\n",
       "      <td>2.372000e+03</td>\n",
       "      <td>1.288568e+09</td>\n",
       "      <td>4.500000e+00</td>\n",
       "      <td>4.000000e+00</td>\n",
       "      <td>4.000000e+00</td>\n",
       "      <td>4.000000e+00</td>\n",
       "      <td>4.500000e+00</td>\n",
       "      <td>8.500000e+00</td>\n",
       "      <td>3.944100e+04</td>\n",
       "    </tr>\n",
       "    <tr>\n",
       "      <th>max</th>\n",
       "      <td>2.800300e+04</td>\n",
       "      <td>1.326285e+09</td>\n",
       "      <td>5.000000e+00</td>\n",
       "      <td>5.000000e+00</td>\n",
       "      <td>5.000000e+00</td>\n",
       "      <td>5.000000e+00</td>\n",
       "      <td>5.000000e+00</td>\n",
       "      <td>5.770000e+01</td>\n",
       "      <td>7.731700e+04</td>\n",
       "    </tr>\n",
       "  </tbody>\n",
       "</table>\n",
       "</div>"
      ],
      "text/plain": [
       "         brewery_id   review_time  review_overall  review_aroma  \\\n",
       "count  1.586614e+06  1.586614e+06    1.586614e+06  1.586614e+06   \n",
       "mean   3.130099e+03  1.224089e+09    3.815581e+00  3.735636e+00   \n",
       "std    5.578104e+03  7.654427e+07    7.206219e-01  6.976167e-01   \n",
       "min    1.000000e+00  8.406720e+08    0.000000e+00  1.000000e+00   \n",
       "25%    1.430000e+02  1.173224e+09    3.500000e+00  3.500000e+00   \n",
       "50%    4.290000e+02  1.239203e+09    4.000000e+00  4.000000e+00   \n",
       "75%    2.372000e+03  1.288568e+09    4.500000e+00  4.000000e+00   \n",
       "max    2.800300e+04  1.326285e+09    5.000000e+00  5.000000e+00   \n",
       "\n",
       "       review_appearance  review_palate  review_taste      beer_abv  \\\n",
       "count       1.586614e+06   1.586614e+06  1.586614e+06  1.518829e+06   \n",
       "mean        3.841642e+00   3.743701e+00  3.792860e+00  7.042387e+00   \n",
       "std         6.160928e-01   6.822184e-01  7.319696e-01  2.322526e+00   \n",
       "min         0.000000e+00   1.000000e+00  1.000000e+00  1.000000e-02   \n",
       "25%         3.500000e+00   3.500000e+00  3.500000e+00  5.200000e+00   \n",
       "50%         4.000000e+00   4.000000e+00  4.000000e+00  6.500000e+00   \n",
       "75%         4.000000e+00   4.000000e+00  4.500000e+00  8.500000e+00   \n",
       "max         5.000000e+00   5.000000e+00  5.000000e+00  5.770000e+01   \n",
       "\n",
       "        beer_beerid  \n",
       "count  1.586614e+06  \n",
       "mean   2.171279e+04  \n",
       "std    2.181834e+04  \n",
       "min    3.000000e+00  \n",
       "25%    1.717000e+03  \n",
       "50%    1.390600e+04  \n",
       "75%    3.944100e+04  \n",
       "max    7.731700e+04  "
      ]
     },
     "execution_count": 45,
     "metadata": {},
     "output_type": "execute_result"
    }
   ],
   "source": [
    "# Display the descriptive statictics of df\n",
    "df.describe()"
   ]
  },
  {
   "cell_type": "markdown",
   "metadata": {},
   "source": [
    "**[2.8]** Investigate feature range of values, and their min/max values"
   ]
  },
  {
   "cell_type": "code",
   "execution_count": 28,
   "metadata": {},
   "outputs": [
    {
     "name": "stdout",
     "output_type": "stream",
     "text": [
      "Unique brewery names     : 5742\n",
      "Unique review_aroma      : 9\n",
      "Unique review_appearance : 10\n",
      "Unique review_palate     : 9\n",
      "Unique review_taste      : 9\n",
      "Unique beer_abv          : 530\n",
      "Target beer_style        : 104\n"
     ]
    }
   ],
   "source": [
    "# keep this list of features & target beer_style\n",
    "# 'brewery_name', 'review_aroma', 'review_appearance', 'review_palate', 'review_taste', 'beer_abv', 'beer_style'\n",
    "\n",
    "# 5742 unique brewery name\n",
    "print('Unique brewery names     :',df['brewery_name'].value_counts().count())\n",
    "\n",
    "# review_aroma\n",
    "print('Unique review_aroma      :',df['review_aroma'].value_counts().count())\n",
    "\n",
    "# review_appearance\n",
    "print('Unique review_appearance :',df['review_appearance'].value_counts().count())\n",
    "\n",
    "# review_palate\n",
    "print('Unique review_palate     :',df['review_palate'].value_counts().count())\n",
    "\n",
    "# review_taste\n",
    "print('Unique review_taste      :',df['review_taste'].value_counts().count())\n",
    "\n",
    "# beer_abv\n",
    "print('Unique beer_abv          :',df['beer_abv'].value_counts().count())\n",
    "\n",
    "# Target beer_style\n",
    "print('Target beer_style        :',df['beer_style'].value_counts().count())"
   ]
  },
  {
   "cell_type": "code",
   "execution_count": 29,
   "metadata": {},
   "outputs": [
    {
     "data": {
      "text/plain": [
       "American IPA                        117586\n",
       "American Double / Imperial IPA       85977\n",
       "American Pale Ale (APA)              63469\n",
       "Russian Imperial Stout               54129\n",
       "American Double / Imperial Stout     50705\n",
       "                                     ...  \n",
       "Gose                                   686\n",
       "Faro                                   609\n",
       "Roggenbier                             466\n",
       "Kvass                                  297\n",
       "Happoshu                               241\n",
       "Name: beer_style, Length: 104, dtype: int64"
      ]
     },
     "execution_count": 29,
     "metadata": {},
     "output_type": "execute_result"
    }
   ],
   "source": [
    "# Target counts\n",
    "df['beer_style'].value_counts()"
   ]
  },
  {
   "cell_type": "code",
   "execution_count": 30,
   "metadata": {},
   "outputs": [
    {
     "data": {
      "text/plain": [
       "Boston Beer Company (Samuel Adams)        39444\n",
       "Dogfish Head Brewery                      33839\n",
       "Stone Brewing Co.                         33066\n",
       "Sierra Nevada Brewing Co.                 28751\n",
       "Bell's Brewery, Inc.                      25191\n",
       "                                          ...  \n",
       "Brauhaus Simon Strasser                       1\n",
       "Lennet Brau- Und Vertriebsgesellschaft        1\n",
       "Sudds Brewery Ltd.                            1\n",
       "Reijin Shuzo K.k.                             1\n",
       "Saffron Brewery                               1\n",
       "Name: brewery_name, Length: 5742, dtype: int64"
      ]
     },
     "execution_count": 30,
     "metadata": {},
     "output_type": "execute_result"
    }
   ],
   "source": [
    "# Name of brewery - 5742 unique names\n",
    "df['brewery_name'].value_counts()"
   ]
  },
  {
   "cell_type": "code",
   "execution_count": 31,
   "metadata": {},
   "outputs": [
    {
     "data": {
      "text/plain": [
       "4.0    557383\n",
       "3.5    365312\n",
       "4.5    271450\n",
       "3.0    200030\n",
       "2.5     66359\n",
       "5.0     64117\n",
       "2.0     42566\n",
       "1.5     12524\n",
       "1.0      6873\n",
       "Name: review_aroma, dtype: int64"
      ]
     },
     "execution_count": 31,
     "metadata": {},
     "output_type": "execute_result"
    }
   ],
   "source": [
    "# Score given by reviewer regarding beer aroma\n",
    "df['review_aroma'].value_counts()"
   ]
  },
  {
   "cell_type": "code",
   "execution_count": 32,
   "metadata": {},
   "outputs": [
    {
     "data": {
      "text/plain": [
       "4.0    674186\n",
       "3.5    318529\n",
       "4.5    288108\n",
       "3.0    166009\n",
       "5.0     65398\n",
       "2.5     39493\n",
       "2.0     25414\n",
       "1.5      6147\n",
       "1.0      3323\n",
       "0.0         7\n",
       "Name: review_appearance, dtype: int64"
      ]
     },
     "execution_count": 32,
     "metadata": {},
     "output_type": "execute_result"
    }
   ],
   "source": [
    "# Score given by reviewer regarding beer palate\n",
    "df['review_appearance'].value_counts()"
   ]
  },
  {
   "cell_type": "code",
   "execution_count": 38,
   "metadata": {},
   "outputs": [
    {
     "data": {
      "text/plain": [
       "4.0    606711\n",
       "3.5    338585\n",
       "4.5    253102\n",
       "3.0    206932\n",
       "2.5     62842\n",
       "5.0     62190\n",
       "2.0     38333\n",
       "1.5     11045\n",
       "1.0      6874\n",
       "Name: review_palate, dtype: int64"
      ]
     },
     "execution_count": 38,
     "metadata": {},
     "output_type": "execute_result"
    }
   ],
   "source": [
    "# Score given by reviewer regarding beer palate\n",
    "df['review_palate'].value_counts()"
   ]
  },
  {
   "cell_type": "code",
   "execution_count": 37,
   "metadata": {},
   "outputs": [
    {
     "data": {
      "text/plain": [
       "4.0    541429\n",
       "4.5    336162\n",
       "3.5    324541\n",
       "3.0    166860\n",
       "5.0     83977\n",
       "2.5     66534\n",
       "2.0     41992\n",
       "1.5     15128\n",
       "1.0      9991\n",
       "Name: review_taste, dtype: int64"
      ]
     },
     "execution_count": 37,
     "metadata": {},
     "output_type": "execute_result"
    }
   ],
   "source": [
    "# Score given by reviewer regarding beer taste\n",
    "df['review_taste'].value_counts()"
   ]
  },
  {
   "cell_type": "code",
   "execution_count": 35,
   "metadata": {},
   "outputs": [
    {
     "data": {
      "text/plain": [
       "5.00     109144\n",
       "8.00      67744\n",
       "6.00      65383\n",
       "7.00      59460\n",
       "9.00      59183\n",
       "          ...  \n",
       "6.78          1\n",
       "7.74          1\n",
       "3.99          1\n",
       "1.30          1\n",
       "10.17         1\n",
       "Name: beer_abv, Length: 530, dtype: int64"
      ]
     },
     "execution_count": 35,
     "metadata": {},
     "output_type": "execute_result"
    }
   ],
   "source": [
    "# Alcohol by volume measure \n",
    "df['beer_abv'].value_counts()"
   ]
  },
  {
   "cell_type": "code",
   "execution_count": 53,
   "metadata": {},
   "outputs": [
    {
     "data": {
      "text/plain": [
       "American IPA                        117586\n",
       "American Double / Imperial IPA       85977\n",
       "American Pale Ale (APA)              63469\n",
       "Russian Imperial Stout               54129\n",
       "American Double / Imperial Stout     50705\n",
       "                                     ...  \n",
       "Gose                                   686\n",
       "Faro                                   609\n",
       "Roggenbier                             466\n",
       "Kvass                                  297\n",
       "Happoshu                               241\n",
       "Name: beer_style, Length: 104, dtype: int64"
      ]
     },
     "execution_count": 53,
     "metadata": {},
     "output_type": "execute_result"
    }
   ],
   "source": [
    "# Target counts\n",
    "df['beer_style'].value_counts()"
   ]
  },
  {
   "cell_type": "markdown",
   "metadata": {},
   "source": [
    "**[2.10]** What are the top 10 beer_styles number of reviews"
   ]
  },
  {
   "cell_type": "code",
   "execution_count": 6,
   "metadata": {},
   "outputs": [
    {
     "data": {
      "text/html": [
       "<div>\n",
       "<style scoped>\n",
       "    .dataframe tbody tr th:only-of-type {\n",
       "        vertical-align: middle;\n",
       "    }\n",
       "\n",
       "    .dataframe tbody tr th {\n",
       "        vertical-align: top;\n",
       "    }\n",
       "\n",
       "    .dataframe thead th {\n",
       "        text-align: right;\n",
       "    }\n",
       "</style>\n",
       "<table border=\"1\" class=\"dataframe\">\n",
       "  <thead>\n",
       "    <tr style=\"text-align: right;\">\n",
       "      <th></th>\n",
       "      <th>beer_style</th>\n",
       "      <th>num_review</th>\n",
       "    </tr>\n",
       "  </thead>\n",
       "  <tbody>\n",
       "    <tr>\n",
       "      <th>0</th>\n",
       "      <td>American IPA</td>\n",
       "      <td>117586</td>\n",
       "    </tr>\n",
       "    <tr>\n",
       "      <th>1</th>\n",
       "      <td>American Double / Imperial IPA</td>\n",
       "      <td>85977</td>\n",
       "    </tr>\n",
       "    <tr>\n",
       "      <th>2</th>\n",
       "      <td>American Pale Ale (APA)</td>\n",
       "      <td>63469</td>\n",
       "    </tr>\n",
       "    <tr>\n",
       "      <th>3</th>\n",
       "      <td>Russian Imperial Stout</td>\n",
       "      <td>54129</td>\n",
       "    </tr>\n",
       "    <tr>\n",
       "      <th>4</th>\n",
       "      <td>American Double / Imperial Stout</td>\n",
       "      <td>50705</td>\n",
       "    </tr>\n",
       "    <tr>\n",
       "      <th>5</th>\n",
       "      <td>American Porter</td>\n",
       "      <td>50477</td>\n",
       "    </tr>\n",
       "    <tr>\n",
       "      <th>6</th>\n",
       "      <td>American Amber / Red Ale</td>\n",
       "      <td>45751</td>\n",
       "    </tr>\n",
       "    <tr>\n",
       "      <th>7</th>\n",
       "      <td>Belgian Strong Dark Ale</td>\n",
       "      <td>37743</td>\n",
       "    </tr>\n",
       "    <tr>\n",
       "      <th>8</th>\n",
       "      <td>Fruit / Vegetable Beer</td>\n",
       "      <td>33861</td>\n",
       "    </tr>\n",
       "    <tr>\n",
       "      <th>9</th>\n",
       "      <td>American Strong Ale</td>\n",
       "      <td>31945</td>\n",
       "    </tr>\n",
       "  </tbody>\n",
       "</table>\n",
       "</div>"
      ],
      "text/plain": [
       "                         beer_style  num_review\n",
       "0                      American IPA      117586\n",
       "1    American Double / Imperial IPA       85977\n",
       "2           American Pale Ale (APA)       63469\n",
       "3            Russian Imperial Stout       54129\n",
       "4  American Double / Imperial Stout       50705\n",
       "5                   American Porter       50477\n",
       "6          American Amber / Red Ale       45751\n",
       "7           Belgian Strong Dark Ale       37743\n",
       "8            Fruit / Vegetable Beer       33861\n",
       "9               American Strong Ale       31945"
      ]
     },
     "execution_count": 6,
     "metadata": {},
     "output_type": "execute_result"
    }
   ],
   "source": [
    "df_count_bn = pd.DataFrame(df['brewery_name'].value_counts()).reset_index()\n",
    "df_count_bn.columns=['brewery_name', 'num_review']\n",
    "df_count_bn.iloc[:10]\n",
    "\n",
    "df_count_bs = pd.DataFrame(df['beer_style'].value_counts()).reset_index()\n",
    "df_count_bs.columns=['beer_style', 'num_review']\n",
    "df_count_bs.iloc[:10]"
   ]
  },
  {
   "cell_type": "code",
   "execution_count": 7,
   "metadata": {},
   "outputs": [
    {
     "data": {
      "text/plain": [
       "<matplotlib.axes._subplots.AxesSubplot at 0x7fda2a046310>"
      ]
     },
     "execution_count": 7,
     "metadata": {},
     "output_type": "execute_result"
    },
    {
     "data": {
      "image/png": "[encoded data removed]",
      "text/plain": [
       "<Figure size 432x288 with 1 Axes>"
      ]
     },
     "metadata": {},
     "output_type": "display_data"
    }
   ],
   "source": [
    "import seaborn as sns\n",
    "\n",
    "sns.set_style('whitegrid')\n",
    "\n",
    "df_count_bs.plot(kind='hist')"
   ]
  },
  {
   "cell_type": "code",
   "execution_count": 137,
   "metadata": {},
   "outputs": [],
   "source": [
    "# output counts to investigate data\n",
    "df_count_bs.to_csv('../data/processed/count_beer_style.csv', index=False)\n",
    "df_count_bn.to_csv('../data/processed/count_brew_name.csv', index=False)"
   ]
  },
  {
   "cell_type": "code",
   "execution_count": 10,
   "metadata": {},
   "outputs": [
    {
     "data": {
      "text/plain": [
       "['Boston Beer Company (Samuel Adams)',\n",
       " 'Dogfish Head Brewery',\n",
       " 'Stone Brewing Co.',\n",
       " 'Sierra Nevada Brewing Co.',\n",
       " \"Bell's Brewery, Inc.\",\n",
       " 'Rogue Ales',\n",
       " 'Founders Brewing Company',\n",
       " 'Victory Brewing Company',\n",
       " 'Lagunitas Brewing Company',\n",
       " 'Avery Brewing Company']"
      ]
     },
     "execution_count": 10,
     "metadata": {},
     "output_type": "execute_result"
    }
   ],
   "source": [
    "# create lists of categorical variable values\n",
    "list_beer_style = list(pd.DataFrame(df['beer_style'].value_counts()).reset_index().iloc[:,0])\n",
    "list_brew_name = list(pd.DataFrame(df['brewery_name'].value_counts()).reset_index().iloc[:,0])\n",
    "list_brew_name[:10]"
   ]
  },
  {
   "cell_type": "markdown",
   "metadata": {},
   "source": [
    "### 3. Prepare Data\n",
    "\n",
    "**[3.1]** Create a copy of `df` and save it into a variable called `df_cleaned`\n",
    "\n",
    "**[3.2]** Create a dictionary called `cats_dict` that contains the categorical variables as keys and their respective values sorted in ascending order"
   ]
  },
  {
   "cell_type": "code",
   "execution_count": 63,
   "metadata": {},
   "outputs": [
    {
     "data": {
      "text/html": [
       "<div>\n",
       "<style scoped>\n",
       "    .dataframe tbody tr th:only-of-type {\n",
       "        vertical-align: middle;\n",
       "    }\n",
       "\n",
       "    .dataframe tbody tr th {\n",
       "        vertical-align: top;\n",
       "    }\n",
       "\n",
       "    .dataframe thead th {\n",
       "        text-align: right;\n",
       "    }\n",
       "</style>\n",
       "<table border=\"1\" class=\"dataframe\">\n",
       "  <thead>\n",
       "    <tr style=\"text-align: right;\">\n",
       "      <th></th>\n",
       "      <th>brewery_name</th>\n",
       "      <th>review_aroma</th>\n",
       "      <th>review_appearance</th>\n",
       "      <th>beer_style</th>\n",
       "      <th>review_palate</th>\n",
       "      <th>review_taste</th>\n",
       "      <th>beer_abv</th>\n",
       "    </tr>\n",
       "  </thead>\n",
       "  <tbody>\n",
       "    <tr>\n",
       "      <th>0</th>\n",
       "      <td>Vecchio Birraio</td>\n",
       "      <td>2.0</td>\n",
       "      <td>2.5</td>\n",
       "      <td>Hefeweizen</td>\n",
       "      <td>1.5</td>\n",
       "      <td>1.5</td>\n",
       "      <td>5.0</td>\n",
       "    </tr>\n",
       "    <tr>\n",
       "      <th>1</th>\n",
       "      <td>Vecchio Birraio</td>\n",
       "      <td>2.5</td>\n",
       "      <td>3.0</td>\n",
       "      <td>English Strong Ale</td>\n",
       "      <td>3.0</td>\n",
       "      <td>3.0</td>\n",
       "      <td>6.2</td>\n",
       "    </tr>\n",
       "    <tr>\n",
       "      <th>2</th>\n",
       "      <td>Vecchio Birraio</td>\n",
       "      <td>2.5</td>\n",
       "      <td>3.0</td>\n",
       "      <td>Foreign / Export Stout</td>\n",
       "      <td>3.0</td>\n",
       "      <td>3.0</td>\n",
       "      <td>6.5</td>\n",
       "    </tr>\n",
       "    <tr>\n",
       "      <th>3</th>\n",
       "      <td>Vecchio Birraio</td>\n",
       "      <td>3.0</td>\n",
       "      <td>3.5</td>\n",
       "      <td>German Pilsener</td>\n",
       "      <td>2.5</td>\n",
       "      <td>3.0</td>\n",
       "      <td>5.0</td>\n",
       "    </tr>\n",
       "    <tr>\n",
       "      <th>4</th>\n",
       "      <td>Caldera Brewing Company</td>\n",
       "      <td>4.5</td>\n",
       "      <td>4.0</td>\n",
       "      <td>American Double / Imperial IPA</td>\n",
       "      <td>4.0</td>\n",
       "      <td>4.5</td>\n",
       "      <td>7.7</td>\n",
       "    </tr>\n",
       "  </tbody>\n",
       "</table>\n",
       "</div>"
      ],
      "text/plain": [
       "              brewery_name  review_aroma  review_appearance  \\\n",
       "0          Vecchio Birraio           2.0                2.5   \n",
       "1          Vecchio Birraio           2.5                3.0   \n",
       "2          Vecchio Birraio           2.5                3.0   \n",
       "3          Vecchio Birraio           3.0                3.5   \n",
       "4  Caldera Brewing Company           4.5                4.0   \n",
       "\n",
       "                       beer_style  review_palate  review_taste  beer_abv  \n",
       "0                      Hefeweizen            1.5           1.5       5.0  \n",
       "1              English Strong Ale            3.0           3.0       6.2  \n",
       "2          Foreign / Export Stout            3.0           3.0       6.5  \n",
       "3                 German Pilsener            2.5           3.0       5.0  \n",
       "4  American Double / Imperial IPA            4.0           4.5       7.7  "
      ]
     },
     "metadata": {},
     "output_type": "display_data"
    }
   ],
   "source": [
    "# Create a copy of df and save it into a variable called df_cleaned\n",
    "df_cleaned = df.copy()\n",
    "\n",
    "# Remove the column No as it is an identifier for rows\n",
    "cols_drop = ['brewery_id','review_time','review_overall','review_profilename','beer_name','beer_beerid']\n",
    "df_cleaned.drop(cols_drop, axis=1, inplace=True)\n",
    "display(df_cleaned.head())"
   ]
  },
  {
   "cell_type": "code",
   "execution_count": 64,
   "metadata": {},
   "outputs": [
    {
     "name": "stdout",
     "output_type": "stream",
     "text": [
      "Shape before null values removed: (1586614, 7)\n",
      "Shape after  null values removed: (1518814, 7)\n",
      "67800 rows with null values removed\n"
     ]
    }
   ],
   "source": [
    "# Remove the missing values from the target variable\n",
    "rows_before = df_cleaned.shape[0]\n",
    "print('Shape before null values removed:', df_cleaned.shape)\n",
    "\n",
    "df_cleaned.dropna(inplace=True)\n",
    "\n",
    "print('Shape after  null values removed:', df_cleaned.shape)\n",
    "print(f'{rows_before-df_cleaned.shape[0]} rows with null values removed')"
   ]
  },
  {
   "cell_type": "code",
   "execution_count": 65,
   "metadata": {},
   "outputs": [],
   "source": [
    "# Create a dictionary called cats_dict that contains the categorical variables as keys and their respective values sorted in ascending order\n",
    "cats_dict = {\n",
    "    'brewery_name': [list_brew_name],\n",
    "    'beer_style': [list_beer_style],\n",
    "}"
   ]
  },
  {
   "cell_type": "markdown",
   "metadata": {},
   "source": [
    "**[3.3]** Import `StandardScaler` and `OrdinalEncoder` from `sklearn.preprocessing`\n",
    "\n",
    "**[3.4]** Iterate through the elements of `cast_dict`, instantiate an OrdinalEncoder() and transform the values of each column with this encoder\n",
    "\n",
    "**[3.5]** Create a list called `num_cols` that contains all numeric columns"
   ]
  },
  {
   "cell_type": "code",
   "execution_count": 66,
   "metadata": {},
   "outputs": [],
   "source": [
    "# Import StandardScaler and OrdinalEncoder from sklearn.preprocessing\n",
    "from sklearn.preprocessing import StandardScaler, OrdinalEncoder\n",
    "\n",
    "# Iterate through the elements of cast_dict, instantiate an OrdinalEncoder() and transform the values of each column with this encoder\n",
    "for col, cats in cats_dict.items():\n",
    "    col_encoder = OrdinalEncoder(categories=cats)\n",
    "    df_cleaned[col] = col_encoder.fit_transform(df_cleaned[[col]])\n",
    "    \n",
    "# Create a list called num_cols that contains all numeric columns - exclude the target: beer_style\n",
    "num_cols = ['brewery_name','review_aroma','review_appearance','review_palate','review_taste','beer_abv']"
   ]
  },
  {
   "cell_type": "code",
   "execution_count": 67,
   "metadata": {},
   "outputs": [
    {
     "data": {
      "text/html": [
       "<div>\n",
       "<style scoped>\n",
       "    .dataframe tbody tr th:only-of-type {\n",
       "        vertical-align: middle;\n",
       "    }\n",
       "\n",
       "    .dataframe tbody tr th {\n",
       "        vertical-align: top;\n",
       "    }\n",
       "\n",
       "    .dataframe thead th {\n",
       "        text-align: right;\n",
       "    }\n",
       "</style>\n",
       "<table border=\"1\" class=\"dataframe\">\n",
       "  <thead>\n",
       "    <tr style=\"text-align: right;\">\n",
       "      <th></th>\n",
       "      <th>brewery_name</th>\n",
       "      <th>review_aroma</th>\n",
       "      <th>review_appearance</th>\n",
       "      <th>beer_style</th>\n",
       "      <th>review_palate</th>\n",
       "      <th>review_taste</th>\n",
       "      <th>beer_abv</th>\n",
       "    </tr>\n",
       "  </thead>\n",
       "  <tbody>\n",
       "    <tr>\n",
       "      <th>0</th>\n",
       "      <td>4196.0</td>\n",
       "      <td>2.0</td>\n",
       "      <td>2.5</td>\n",
       "      <td>15.0</td>\n",
       "      <td>1.5</td>\n",
       "      <td>1.5</td>\n",
       "      <td>5.0</td>\n",
       "    </tr>\n",
       "    <tr>\n",
       "      <th>1</th>\n",
       "      <td>4196.0</td>\n",
       "      <td>2.5</td>\n",
       "      <td>3.0</td>\n",
       "      <td>73.0</td>\n",
       "      <td>3.0</td>\n",
       "      <td>3.0</td>\n",
       "      <td>6.2</td>\n",
       "    </tr>\n",
       "    <tr>\n",
       "      <th>2</th>\n",
       "      <td>4196.0</td>\n",
       "      <td>2.5</td>\n",
       "      <td>3.0</td>\n",
       "      <td>69.0</td>\n",
       "      <td>3.0</td>\n",
       "      <td>3.0</td>\n",
       "      <td>6.5</td>\n",
       "    </tr>\n",
       "    <tr>\n",
       "      <th>3</th>\n",
       "      <td>4196.0</td>\n",
       "      <td>3.0</td>\n",
       "      <td>3.5</td>\n",
       "      <td>22.0</td>\n",
       "      <td>2.5</td>\n",
       "      <td>3.0</td>\n",
       "      <td>5.0</td>\n",
       "    </tr>\n",
       "    <tr>\n",
       "      <th>4</th>\n",
       "      <td>297.0</td>\n",
       "      <td>4.5</td>\n",
       "      <td>4.0</td>\n",
       "      <td>1.0</td>\n",
       "      <td>4.0</td>\n",
       "      <td>4.5</td>\n",
       "      <td>7.7</td>\n",
       "    </tr>\n",
       "  </tbody>\n",
       "</table>\n",
       "</div>"
      ],
      "text/plain": [
       "   brewery_name  review_aroma  review_appearance  beer_style  review_palate  \\\n",
       "0        4196.0           2.0                2.5        15.0            1.5   \n",
       "1        4196.0           2.5                3.0        73.0            3.0   \n",
       "2        4196.0           2.5                3.0        69.0            3.0   \n",
       "3        4196.0           3.0                3.5        22.0            2.5   \n",
       "4         297.0           4.5                4.0         1.0            4.0   \n",
       "\n",
       "   review_taste  beer_abv  \n",
       "0           1.5       5.0  \n",
       "1           3.0       6.2  \n",
       "2           3.0       6.5  \n",
       "3           3.0       5.0  \n",
       "4           4.5       7.7  "
      ]
     },
     "execution_count": 67,
     "metadata": {},
     "output_type": "execute_result"
    }
   ],
   "source": [
    "# check categorical values are now numbers\n",
    "df_cleaned.head()"
   ]
  },
  {
   "cell_type": "markdown",
   "metadata": {},
   "source": [
    "**[3.6]** Data distribution - which features are normally distributed v's skewed distribution. Features with skewed distributions may need transforming (if there is time)."
   ]
  },
  {
   "cell_type": "code",
   "execution_count": 27,
   "metadata": {},
   "outputs": [
    {
     "data": {
      "image/png": "[encoded data removed]",
      "text/plain": [
       "<Figure size 720x360 with 7 Axes>"
      ]
     },
     "metadata": {},
     "output_type": "display_data"
    }
   ],
   "source": [
    "# keep this list of features & target beer_style\n",
    "col_feat = ['brewery_name', 'review_aroma', 'review_appearance', 'review_palate', 'review_taste', 'beer_abv', 'beer_style']\n",
    "\n",
    "import matplotlib.pyplot as plt\n",
    "\n",
    "plt.rcParams[\"figure.figsize\"] = (10,5)\n",
    "\n",
    "def draw_histograms(df, variables, n_rows, n_cols):\n",
    "    fig=plt.figure()\n",
    "    for i, var_name in enumerate(variables):\n",
    "        ax=fig.add_subplot(n_rows,n_cols,i+1)\n",
    "        df[var_name].hist(bins=10,ax=ax)\n",
    "        ax.set_title(var_name)\n",
    "    #fig.tight_layout()  # Improves appearance a bit.\n",
    "    #fig.set_dpi(150)\n",
    "    plt.show()\n",
    "\n",
    "draw_histograms(df_cleaned[col_feat], df_cleaned[col_feat].columns, 2, 4)"
   ]
  },
  {
   "cell_type": "markdown",
   "metadata": {},
   "source": [
    "**[3.7]** Instantiate a `StandardScaler` and called it `sc`\n",
    "\n",
    "**[3.8]** Fit and transform the numeric feature of `df_cleaned` and replace the data into it\n",
    "\n",
    "**[3.9]** Convert target column `beer_style` as integer"
   ]
  },
  {
   "cell_type": "code",
   "execution_count": 68,
   "metadata": {},
   "outputs": [],
   "source": [
    "# Instantiate a StandardScaler and called it sc\n",
    "sc = StandardScaler()\n",
    "\n",
    "# Fit and transform the numeric feature of X_train_cleaned and replace the data into it\n",
    "df_cleaned[num_cols] = sc.fit_transform(df_cleaned[num_cols])\n",
    "\n",
    "# Convert the column evaluation as integer\n",
    "df_cleaned['beer_style'] = df_cleaned['beer_style'].astype(int)"
   ]
  },
  {
   "cell_type": "markdown",
   "metadata": {},
   "source": [
    "**[3.9.1]** Check the converted data - all scaled numerics apart from target `beer_style` which is integer\n",
    "\n",
    "**[3.9.2]** Check target `beer_style` min value is 0, and max value is one less than the total number of beer_style classes, 103 - ie: `len(list_beer_style)-1`"
   ]
  },
  {
   "cell_type": "code",
   "execution_count": 69,
   "metadata": {},
   "outputs": [
    {
     "data": {
      "text/html": [
       "<div>\n",
       "<style scoped>\n",
       "    .dataframe tbody tr th:only-of-type {\n",
       "        vertical-align: middle;\n",
       "    }\n",
       "\n",
       "    .dataframe tbody tr th {\n",
       "        vertical-align: top;\n",
       "    }\n",
       "\n",
       "    .dataframe thead th {\n",
       "        text-align: right;\n",
       "    }\n",
       "</style>\n",
       "<table border=\"1\" class=\"dataframe\">\n",
       "  <thead>\n",
       "    <tr style=\"text-align: right;\">\n",
       "      <th></th>\n",
       "      <th>brewery_name</th>\n",
       "      <th>review_aroma</th>\n",
       "      <th>review_appearance</th>\n",
       "      <th>beer_style</th>\n",
       "      <th>review_palate</th>\n",
       "      <th>review_taste</th>\n",
       "      <th>beer_abv</th>\n",
       "    </tr>\n",
       "  </thead>\n",
       "  <tbody>\n",
       "    <tr>\n",
       "      <th>0</th>\n",
       "      <td>8.335696</td>\n",
       "      <td>-2.511041</td>\n",
       "      <td>-2.198046</td>\n",
       "      <td>15</td>\n",
       "      <td>-3.317269</td>\n",
       "      <td>-3.161958</td>\n",
       "      <td>-0.879384</td>\n",
       "    </tr>\n",
       "    <tr>\n",
       "      <th>1</th>\n",
       "      <td>8.335696</td>\n",
       "      <td>-1.792025</td>\n",
       "      <td>-1.384166</td>\n",
       "      <td>73</td>\n",
       "      <td>-1.109371</td>\n",
       "      <td>-1.103408</td>\n",
       "      <td>-0.362706</td>\n",
       "    </tr>\n",
       "    <tr>\n",
       "      <th>2</th>\n",
       "      <td>8.335696</td>\n",
       "      <td>-1.792025</td>\n",
       "      <td>-1.384166</td>\n",
       "      <td>69</td>\n",
       "      <td>-1.109371</td>\n",
       "      <td>-1.103408</td>\n",
       "      <td>-0.233537</td>\n",
       "    </tr>\n",
       "    <tr>\n",
       "      <th>3</th>\n",
       "      <td>8.335696</td>\n",
       "      <td>-1.073010</td>\n",
       "      <td>-0.570285</td>\n",
       "      <td>22</td>\n",
       "      <td>-1.845337</td>\n",
       "      <td>-1.103408</td>\n",
       "      <td>-0.879384</td>\n",
       "    </tr>\n",
       "    <tr>\n",
       "      <th>4</th>\n",
       "      <td>0.125552</td>\n",
       "      <td>1.084037</td>\n",
       "      <td>0.243595</td>\n",
       "      <td>1</td>\n",
       "      <td>0.362561</td>\n",
       "      <td>0.955143</td>\n",
       "      <td>0.283141</td>\n",
       "    </tr>\n",
       "  </tbody>\n",
       "</table>\n",
       "</div>"
      ],
      "text/plain": [
       "   brewery_name  review_aroma  review_appearance  beer_style  review_palate  \\\n",
       "0      8.335696     -2.511041          -2.198046          15      -3.317269   \n",
       "1      8.335696     -1.792025          -1.384166          73      -1.109371   \n",
       "2      8.335696     -1.792025          -1.384166          69      -1.109371   \n",
       "3      8.335696     -1.073010          -0.570285          22      -1.845337   \n",
       "4      0.125552      1.084037           0.243595           1       0.362561   \n",
       "\n",
       "   review_taste  beer_abv  \n",
       "0     -3.161958 -0.879384  \n",
       "1     -1.103408 -0.362706  \n",
       "2     -1.103408 -0.233537  \n",
       "3     -1.103408 -0.879384  \n",
       "4      0.955143  0.283141  "
      ]
     },
     "execution_count": 69,
     "metadata": {},
     "output_type": "execute_result"
    }
   ],
   "source": [
    "# all features are now scaled, and beer_style is an integer\n",
    "df_cleaned.head()"
   ]
  },
  {
   "cell_type": "code",
   "execution_count": 70,
   "metadata": {},
   "outputs": [
    {
     "data": {
      "text/plain": [
       "0      113162\n",
       "1       85124\n",
       "2       58081\n",
       "3       53432\n",
       "4       50146\n",
       "        ...  \n",
       "99        654\n",
       "100       609\n",
       "101       395\n",
       "102       229\n",
       "103       237\n",
       "Name: beer_style, Length: 104, dtype: int64"
      ]
     },
     "execution_count": 70,
     "metadata": {},
     "output_type": "execute_result"
    }
   ],
   "source": [
    "# check indicies of labels list - check starting from 0 up to len(list)-1\n",
    "df_cleaned['beer_style'].value_counts().sort_index()"
   ]
  },
  {
   "cell_type": "markdown",
   "metadata": {},
   "source": [
    "**[3.10]** Import `split_sets_random` and `save_sets` from `src.data.sets`\n",
    "\n",
    "**[3.11]** Split the data into training and testing sets with 80-20 ratio\n",
    "\n",
    "**[3.12]** Create the following folder: ../data/processed/car_evaluation/"
   ]
  },
  {
   "cell_type": "code",
   "execution_count": 71,
   "metadata": {},
   "outputs": [],
   "source": [
    "# Import split_sets_random from sklearn.model_selection\n",
    "from src.data.sets import split_sets_random, save_sets\n",
    "\n",
    "# Split the data into training and testing sets with 80-20 ratio\n",
    "X_train, y_train, X_val, y_val, X_test, y_test = split_sets_random(df_cleaned, target_col='beer_style', test_ratio=0.2)\n",
    "\n",
    "#!mkdir ../data/processed/beer_style"
   ]
  },
  {
   "cell_type": "markdown",
   "metadata": {},
   "source": [
    "**[3.13]** Save the sets in the `data/processed/beer_style` folder"
   ]
  },
  {
   "cell_type": "code",
   "execution_count": 72,
   "metadata": {},
   "outputs": [],
   "source": [
    "# Save the sets in the data/processed/car_evaluation folder\n",
    "save_sets(X_train=X_train, y_train=y_train, X_val=X_val, y_val=y_val, X_test=X_test, y_test=y_test, path='../data/processed/beer_style/')"
   ]
  },
  {
   "cell_type": "markdown",
   "metadata": {},
   "source": [
    "**[3.14]** Import this class from `src/models/pytorch` and convert all sets to PytorchDataset"
   ]
  },
  {
   "cell_type": "code",
   "execution_count": 73,
   "metadata": {},
   "outputs": [],
   "source": [
    "# Import this class from src/models/pytorch and convert all sets to PytorchDataset\n",
    "from src.models.pytorch import PytorchDataset\n",
    "\n",
    "train_dataset = PytorchDataset(X=X_train, y=y_train)\n",
    "val_dataset = PytorchDataset(X=X_val, y=y_val)\n",
    "test_dataset = PytorchDataset(X=X_test, y=y_test)"
   ]
  },
  {
   "cell_type": "markdown",
   "metadata": {},
   "source": [
    "### 4. Baseline Model\n",
    "\n",
    "**[4.1]** Import `NullModel` from `src.models.null`\n",
    "\n",
    "**[4.2]** Instantiate a `NullModel` and call `.fit_predict()` on the training target to extract your predictions into a variable called `y_base`\n",
    "\n",
    "**[4.3]** Import `print_class_perf` from `src.models.performance`\n",
    "\n",
    "**[4.4]** Print the classification metrics for this baseline model\n",
    "\n"
   ]
  },
  {
   "cell_type": "code",
   "execution_count": 74,
   "metadata": {},
   "outputs": [
    {
     "name": "stdout",
     "output_type": "stream",
     "text": [
      "Accuracy Training: 0.07484681022903845\n",
      "F1 Training: 0.010423894732065047\n"
     ]
    }
   ],
   "source": [
    "# Import NullModel from src.models.null\n",
    "from src.models.null import NullModel\n",
    "\n",
    "# Instantiate a NullModel and call .fit_predict() on the training target to extract \n",
    "# your predictions into a variable called y_base\n",
    "baseline_model = NullModel(target_type='classification')\n",
    "y_base = baseline_model.fit_predict(y_train)\n",
    "\n",
    "# Import print_class_perf from src.models.performance\n",
    "from src.models.performance import print_class_perf\n",
    "\n",
    "# Print the classification metrics for this baseline model\n",
    "print_class_perf(y_base, y_train, set_name='Training', average='weighted')"
   ]
  },
  {
   "cell_type": "markdown",
   "metadata": {},
   "source": [
    "### 5. Define Architecture\n",
    "\n",
    "**[5.1]** Import `torch`, `torch.nn` as `nn` and `torch.nn.functional` as `F`\n",
    "\n",
    "**[5.2]** Instantiate `PytorchMultiClass` with the correct number of input feature and save it into a variable called `model`\n",
    "\n",
    "**[5.3]** Import get_device() from `src.models.pytorch` and set model to use the device available\n",
    "\n",
    "**[5.4]** Print the architecture of `model`"
   ]
  },
  {
   "cell_type": "code",
   "execution_count": 78,
   "metadata": {},
   "outputs": [
    {
     "data": {
      "text/plain": [
       "PytorchMultiClass(\n",
       "  (layer_1): Linear(in_features=6, out_features=32, bias=True)\n",
       "  (layer_out): Linear(in_features=32, out_features=104, bias=True)\n",
       "  (softmax): Softmax(dim=1)\n",
       ")"
      ]
     },
     "execution_count": 78,
     "metadata": {},
     "output_type": "execute_result"
    }
   ],
   "source": [
    "# Import torch and torch.nn as nn\n",
    "import torch\n",
    "import torch.nn as nn\n",
    "import torch.nn.functional as F\n",
    "\n",
    "# Instantiate PytorchMultiClass with the correct number of input feature and save it into a variable called model\n",
    "from src.models.pytorch import PytorchMultiClass\n",
    "\n",
    "model = PytorchMultiClass(X_train.shape[1])\n",
    "\n",
    "# Set model to use the device available\n",
    "from src.models.pytorch import get_device\n",
    "\n",
    "device = get_device()\n",
    "model.to(device)"
   ]
  },
  {
   "cell_type": "markdown",
   "metadata": {},
   "source": [
    "### 6. Train Model\n",
    "\n",
    "**[6.1]** Instantiate a `nn.CrossEntropyLoss()` and save it into a variable called `criterion` \n",
    "\n",
    "**[6.2]** Instantiate a `torch.optim.Adam()` optimizer with the model's parameters and 0.1 as learning rate and save it into a variable called `optimizer`"
   ]
  },
  {
   "cell_type": "code",
   "execution_count": 79,
   "metadata": {},
   "outputs": [],
   "source": [
    "# Instantiate a nn.CrossEntropyLoss() and save it into a variable called criterion\n",
    "criterion = nn.CrossEntropyLoss()\n",
    "\n",
    "# Instantiate a torch.optim.Adam() optimizer with the model's parameters and 0.1 as learning rate\n",
    "# and save it into a variable called optimizer\n",
    "optimizer = torch.optim.Adam(model.parameters(), lr=0.1)"
   ]
  },
  {
   "cell_type": "markdown",
   "metadata": {},
   "source": [
    "**[6.3]** Create a function called `train_classification()` that will perform forward and back propagation and calculate loss and Accuracy scores\n",
    "\n",
    "**[6.5]** Create a function called `test_classification()` that will perform forward and calculate loss and accuracy scores"
   ]
  },
  {
   "cell_type": "code",
   "execution_count": 80,
   "metadata": {},
   "outputs": [
    {
     "name": "stdout",
     "output_type": "stream",
     "text": [
      "Epoch: 0\n",
      "\t(train)\t|\tLoss: 0.1419\t|\tAcc: 12.1%\n",
      "\t(valid)\t|\tLoss: 0.1416\t|\tAcc: 12.8%\n",
      "Epoch: 1\n",
      "\t(train)\t|\tLoss: 0.1419\t|\tAcc: 12.0%\n",
      "\t(valid)\t|\tLoss: 0.1419\t|\tAcc: 12.1%\n",
      "Epoch: 2\n",
      "\t(train)\t|\tLoss: 0.1419\t|\tAcc: 12.0%\n",
      "\t(valid)\t|\tLoss: 0.1417\t|\tAcc: 12.6%\n",
      "Epoch: 3\n",
      "\t(train)\t|\tLoss: 0.1419\t|\tAcc: 12.1%\n",
      "\t(valid)\t|\tLoss: 0.1417\t|\tAcc: 12.6%\n",
      "Epoch: 4\n",
      "\t(train)\t|\tLoss: 0.1419\t|\tAcc: 11.9%\n",
      "\t(valid)\t|\tLoss: 0.1419\t|\tAcc: 12.0%\n",
      "\n",
      "Training process took 1227.79 minutes\n"
     ]
    }
   ],
   "source": [
    "# variables N_EPOCHS and BATCH_SIZE that will take respectively 50 and 32 as values\n",
    "N_EPOCHS = 5\n",
    "BATCH_SIZE = 32\n",
    "\n",
    "t_start = time.process_time()\n",
    "\n",
    "# Create a for loop that will iterate through the specified number of epochs and will train the model\n",
    "# with the training set and assess the performance on the validation set and print their scores\n",
    "from src.models.pytorch import train_classification, test_classification\n",
    "\n",
    "for epoch in range(N_EPOCHS):\n",
    "    train_loss, train_acc = train_classification(train_dataset, model=model, criterion=criterion, optimizer=optimizer, batch_size=BATCH_SIZE, device=device)\n",
    "    valid_loss, valid_acc = test_classification(val_dataset, model=model, criterion=criterion, batch_size=BATCH_SIZE, device=device)\n",
    "\n",
    "    print(f'Epoch: {epoch}')\n",
    "    print(f'\\t(train)\\t|\\tLoss: {train_loss:.4f}\\t|\\tAcc: {train_acc * 100:.1f}%')\n",
    "    print(f'\\t(valid)\\t|\\tLoss: {valid_loss:.4f}\\t|\\tAcc: {valid_acc * 100:.1f}%')\n",
    "\n",
    "\n",
    "# how long did that take\n",
    "t_end = time.process_time()       \n",
    "t_diff = (t_end - t_start)/60\n",
    "print('\\nTraining process took {t:.2f} minutes'.format(t=t_diff))"
   ]
  },
  {
   "cell_type": "markdown",
   "metadata": {},
   "source": [
    "**[6.7]** Save the model into the `models` folder\n",
    "\n",
    "**[6.8]** Assess the model performance on the testing set and print its scores"
   ]
  },
  {
   "cell_type": "code",
   "execution_count": 81,
   "metadata": {},
   "outputs": [
    {
     "name": "stdout",
     "output_type": "stream",
     "text": [
      "\tLoss: 0.1419\t|\tAccuracy: 0.1\n"
     ]
    }
   ],
   "source": [
    "# Save the model into the models folder\n",
    "torch.save(model, \"../models/pytorch_multi_beer_style.pt\")\n",
    "\n",
    "# Assess the model performance on the testing set and print its scores\n",
    "test_loss, test_acc = test_classification(test_dataset, model=model, criterion=criterion, batch_size=BATCH_SIZE, device=device)\n",
    "print(f'\\tLoss: {test_loss:.4f}\\t|\\tAccuracy: {test_acc:.1f}')"
   ]
  },
  {
   "cell_type": "markdown",
   "metadata": {},
   "source": [
    "### 7.   Push changes"
   ]
  },
  {
   "cell_type": "code",
   "execution_count": null,
   "metadata": {},
   "outputs": [],
   "source": [
    "\"\"\"\n",
    "# Add your changes to git staging area\n",
    "git add .\n",
    "\n",
    "# Create the snapshot of your repository and add a description\n",
    "git commit -m \"pytorch multi-class\"\n",
    "\n",
    "# Push your snapshot to Github\n",
    "git push https://<insert_pat>@github.com/CazMayhem/adsi_at2.git\n",
    "\n",
    "# Check out to the master branch\n",
    "git checkout master\n",
    "\n",
    "# Pull the latest updates\n",
    "git pull https://<insert_pat>@github.com/CazMayhem/adsi_at2.git\n",
    "\n",
    "# Merge the branch pytorch_reg\n",
    "git checkout pytorch_multi_class\n",
    "\n",
    "# Merge the master branch and push your changes, \n",
    "# any merge issues use: git merge master --allow-unrelated-histories\n",
    "git merge master \n",
    "git push https://<insert_pat>@github.com/CazMayhem/adsi_at2.git\n",
    "\n",
    "\"\"\""
   ]
  },
  {
   "cell_type": "markdown",
   "metadata": {},
   "source": [
    "**[7.1]** Stop the Docker container"
   ]
  },
  {
   "cell_type": "code",
   "execution_count": null,
   "metadata": {},
   "outputs": [],
   "source": [
    "# Stop the Docker container\n",
    "docker stop adsi_at2"
   ]
  }
 ],
 "metadata": {
  "kernelspec": {
   "display_name": "Python 3",
   "language": "python",
   "name": "python3"
  },
  "language_info": {
   "codemirror_mode": {
    "name": "ipython",
    "version": 3
   },
   "file_extension": ".py",
   "mimetype": "text/x-python",
   "name": "python",
   "nbconvert_exporter": "python",
   "pygments_lexer": "ipython3",
   "version": "3.7.6"
  }
 },
 "nbformat": 4,
 "nbformat_minor": 4
}
