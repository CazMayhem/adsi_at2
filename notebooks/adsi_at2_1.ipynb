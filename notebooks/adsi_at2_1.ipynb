{
 "cells": [
  {
   "cell_type": "markdown",
   "metadata": {},
   "source": [
    "## Advanced DS for Innovation\n",
    "\n",
    "### Neural Networks & Heroku\n",
    "\n",
    "The steps are:\n",
    "\n",
    "    Setup Repository\n",
    "    Load and Explore Dataset\n",
    "    Prepare Data\n",
    "    Baseline Model\n",
    "    Define Architecture\n",
    "    Create Data Loader\n",
    "    Train Model\n",
    "    Assess Performance\n",
    "    Push Changes\n"
   ]
  },
  {
   "cell_type": "markdown",
   "metadata": {},
   "source": [
    "## 1. Setup Repository\n",
    "\n",
    "**[1.1]** Go to a folder of your choice on your computer (where you store projects)\n",
    "\n",
    "**[1.2]** Copy the cookiecutter data science template - answer `yes` to replace\n",
    "- Follow the prompt (name the project and repo adv_dsi_lab_6)\n",
    "\n",
    "**[1.3]** Go inside the created folder `adsi_at2`"
   ]
  },
  {
   "cell_type": "code",
   "execution_count": null,
   "metadata": {},
   "outputs": [],
   "source": [
    "# Go to a folder of your choice on your computer (where you store projects)\n",
    "cd ~/Projects/\n",
    "\n",
    "# Copy the cookiecutter data science template - anser 'yes' to replace\n",
    "cookiecutter -c v1 https://github.com/drivendata/cookiecutter-data-science\n",
    "    \n",
    "# answer: yes\n",
    "# project name: adsi_at2\n",
    "\n",
    "# Go inside the created folder adsi_at2\n",
    "cd adsi_at2"
   ]
  },
  {
   "cell_type": "markdown",
   "metadata": {},
   "source": [
    "**[1.4]** Create a file called `Dockerfile` and add the following content:\n",
    "\n",
    "`FROM jupyter/scipy-notebook:0ce64578df46`\n",
    "\n",
    "`RUN pip install torch==1.9.0+cpu torchvision==0.10.0+cpu torchtext==0.10.0 -f https://download.pytorch.org/whl/torch_stable.html`\n",
    "\n",
    "`ENV PYTHONPATH \"${PYTHONPATH}:/home/jovyan/work\"`\n",
    "\n",
    "`RUN echo \"export PYTHONPATH=/home/jovyan/work\" >> ~/.bashrc`\n",
    "\n",
    "`WORKDIR /home/jovyan/work`\n"
   ]
  },
  {
   "cell_type": "markdown",
   "metadata": {},
   "source": [
    "**[1.5]** Build the image from this Dockerfile\n",
    "\n",
    "- Documentation: https://docs.docker.com/engine/reference/commandline/build/\n",
    "\n",
    "**[1.6]** Run the built image\n",
    "\n",
    "**[1.7]** Display last 50 lines of logs<br>\n",
    "- Copy the url displayed and paste it to a browser in order to launch Jupyter Lab"
   ]
  },
  {
   "cell_type": "code",
   "execution_count": null,
   "metadata": {},
   "outputs": [],
   "source": [
    "# Build the image from this Dockerfile\n",
    "docker build -t pytorch-notebook:latest .\n",
    "    \n",
    "# Run the built image\n",
    "docker run  -dit --rm --name adsi_at2 -p 8888:8888 -e JUPYTER_ENABLE_LAB=yes -v ~/Projects/adv_dsi/adsi_at2:/home/jovyan/work  -v ~/Projects/adv_dsi/src:/home/jovyan/work/src -v ~/Projects/adv_dsi/data:/home/jovyan/work/data pytorch-notebook:latest \n",
    "                    \n",
    "# Display last 50 lines of logs\n",
    "docker logs --tail 50 adsi_at2"
   ]
  },
  {
   "cell_type": "markdown",
   "metadata": {},
   "source": [
    "**[1.8]** Initialise the repo\n",
    "\n",
    "**[1.9]** Login into Github with your account (https://github.com/) and create a public repo with the name `adsi_at2`\n",
    "\n",
    "**[1.10]** In your local repo `adsi_at2`, link it with Github (replace the url with your username)\n",
    "\n",
    "**[1.11]** Add you changes to git staging area and commit them\n",
    "\n",
    "**[1.12]** Push your master branch to origin\n",
    "\n",
    "**[1.13]** Preventing push to `master` branch\n",
    "\n",
    "**[1.14]** Create a new git branch called `pytorch_multi`\n",
    "\n"
   ]
  },
  {
   "cell_type": "code",
   "execution_count": null,
   "metadata": {},
   "outputs": [],
   "source": [
    "\"\"\"\n",
    "# Initialise the repo\n",
    "git init\n",
    "\n",
    "# Login into Github with your account (https://github.com/) and create a public repo with the name `adv_dsi_lab_6`\n",
    "\n",
    "# Link repo with Github\n",
    "git remote add origin git@github.com:CazMayhem/adsi_at2.git\n",
    "\n",
    "# Add you changes to git staging area and commit them\n",
    "git add .\n",
    "git commit -m \"init\"\n",
    "\n",
    "# Push your master branch to origin\n",
    "git push --set-upstream origin master\n",
    "\n",
    "# Preventing push to master branch\n",
    "git config branch.master.pushRemote no_push\n",
    "\n",
    "# Create a new git branch called pytorch_mnist\n",
    "git checkout -b pytorch_mnist\n",
    "\"\"\""
   ]
  },
  {
   "cell_type": "code",
   "execution_count": null,
   "metadata": {},
   "outputs": [],
   "source": []
  },
  {
   "cell_type": "code",
   "execution_count": null,
   "metadata": {},
   "outputs": [],
   "source": []
  },
  {
   "cell_type": "code",
   "execution_count": null,
   "metadata": {},
   "outputs": [],
   "source": []
  },
  {
   "cell_type": "code",
   "execution_count": null,
   "metadata": {},
   "outputs": [],
   "source": []
  },
  {
   "cell_type": "code",
   "execution_count": null,
   "metadata": {},
   "outputs": [],
   "source": []
  }
 ],
 "metadata": {
  "kernelspec": {
   "display_name": "Python 3",
   "language": "python",
   "name": "python3"
  },
  "language_info": {
   "codemirror_mode": {
    "name": "ipython",
    "version": 3
   },
   "file_extension": ".py",
   "mimetype": "text/x-python",
   "name": "python",
   "nbconvert_exporter": "python",
   "pygments_lexer": "ipython3",
   "version": "3.7.6"
  }
 },
 "nbformat": 4,
 "nbformat_minor": 4
}
