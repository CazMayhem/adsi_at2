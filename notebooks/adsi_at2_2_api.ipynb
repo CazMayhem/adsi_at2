{
 "cells": [
  {
   "cell_type": "markdown",
   "metadata": {},
   "source": [
    "# **Part 2 Model Deployment**\n",
    "\n",
    "## Deploy FastAPI\n",
    "\n",
    "We will create a web app for serving our trained model from last exercise and deploy it to Heroku\n",
    "\n",
    "**Pre-requisites:**\n",
    "- Create a github account (https://github.com/join)\n",
    "- Install git (https://git-scm.com/book/en/v2/Getting-Started-Installing-Git)\n",
    "- Install Docker (https://docs.docker.com/get-docker/)\n",
    "- Create a Heroku account (https://signup.heroku.com/)\n",
    "\n",
    "The steps are:\n",
    "1.   Setup Repository\n",
    "2.   Build FastApi app\n",
    "3.   Deploy to Heroku\n",
    "4.   Push Changes\n"
   ]
  },
  {
   "cell_type": "markdown",
   "metadata": {},
   "source": [
    "### 1. Setup Repository\n",
    "\n",
    "**[1.1]** Go to a folder of your choice on your computer (where you store projects)\n",
    "\n",
    "**[1.2]** Create a folder called `api` and go inside the created folder\n",
    "\n",
    "**[1.3]** Copy the `models` folder from Part 1"
   ]
  },
  {
   "cell_type": "code",
   "execution_count": null,
   "metadata": {},
   "outputs": [],
   "source": [
    "# Go to a folder of your choice on your computer (where you store projects)\n",
    "cd ~/Projects/adv_dsi/adsi_at2\n",
    "\n",
    "# Create a folder called api and go inside the created folder\n",
    "mkdir api\n",
    "cd api\n",
    "\n",
    "# Copy the trained model from part 1 into models folder\n",
    "cp -r ../models ."
   ]
  },
  {
   "cell_type": "markdown",
   "metadata": {},
   "source": [
    "**[1.4]** Initialise the repo\n",
    "\n",
    "**[1.5]** Login into Github with your account (https://github.com/) and create a public repo with the name `adsi_at2_nn_api`\n",
    "\n",
    "**[1.6]** In your local repo `adsi_at2_nn_api`, link it with Github (replace the url with your username)\n",
    "\n",
    "**[1.7]** Add you changes to git staging area and commit them\n",
    "\n",
    "**[1.8]** Push your master branch to origin"
   ]
  },
  {
   "cell_type": "code",
   "execution_count": null,
   "metadata": {},
   "outputs": [],
   "source": [
    "\"\"\"\n",
    "# Initialise the repo\n",
    "git init\n",
    "\n",
    "# Login into Github with your account (https://github.com/) \n",
    "# and create a public repo with the name => adsi_at2_nn_api\n",
    "\n",
    "# Link repo with Github\n",
    "git remote add origin git@github.com:CazMayhem/adsi_at2_nn_api\n",
    "    \n",
    "# Add you changes to git staging area and commit them\n",
    "git add .\n",
    "git commit -m \"init\"\n",
    "\n",
    "# Push your master branch to origin\n",
    "git push https://<insert_pat>@github.com/CazMayhem/adsi_at2_nn_api.git --set-upstream origin master\n",
    "\"\"\""
   ]
  },
  {
   "cell_type": "markdown",
   "metadata": {},
   "source": [
    "### 2. Build FastApi app\n",
    "\n",
    "**[2.1]** Create a new git branch called `fastapi`"
   ]
  },
  {
   "cell_type": "code",
   "execution_count": null,
   "metadata": {},
   "outputs": [],
   "source": [
    "# Create a new git branch called fastapi\n",
    "git checkout -b fastapi"
   ]
  },
  {
   "cell_type": "markdown",
   "metadata": {},
   "source": [
    "**[2.2]** Create a file called `requirements.txt` with the following content:\n",
    "\n",
    "`scikit-learn==0.22.1`\n",
    "\n",
    "`pandas==0.25.3`\n",
    "\n",
    "`numpy==1.18.1`\n",
    "\n",
    "`fastapi==0.63.0`\n",
    "\n",
    "`uvicorn==0.13.3`\n",
    "\n",
    "`joblib==1.1.0`\n",
    "\n"
   ]
  },
  {
   "cell_type": "markdown",
   "metadata": {},
   "source": [
    "**[2.3]** Create a folder called `app`"
   ]
  },
  {
   "cell_type": "code",
   "execution_count": null,
   "metadata": {},
   "outputs": [],
   "source": [
    "# Create 2 folders called app \n",
    "mkdir app"
   ]
  },
  {
   "cell_type": "markdown",
   "metadata": {},
   "source": [
    "**[2.4]** Create a file called `Dockerfile` with the following content:\n",
    "\n",
    "`FROM tiangolo/uvicorn-gunicorn-fastapi:python3.7`\n",
    "\n",
    "`COPY requirements.txt .`\n",
    "\n",
    "`RUN pip3 install -r requirements.txt`\n",
    "\n",
    "`COPY ./app /app`\n",
    "\n",
    "`COPY ./models /models`\n",
    "\n",
    "`CMD [\"gunicorn\", \"-k\", \"uvicorn.workers.UvicornWorker\", \"-c\", \"/gunicorn_conf.py\", \"main:app\"]`"
   ]
  },
  {
   "cell_type": "code",
   "execution_count": null,
   "metadata": {},
   "outputs": [],
   "source": [
    "# Create a file called Dockerfile - copy/paste & save above content\n",
    "vi Dockerfile"
   ]
  },
  {
   "cell_type": "markdown",
   "metadata": {},
   "source": [
    "**[2.5]** Create a file called `main.py` in the `app` folder"
   ]
  },
  {
   "cell_type": "code",
   "execution_count": null,
   "metadata": {},
   "outputs": [],
   "source": [
    "# Create a file called main.py in the app folder\n",
    "vi app/main.py"
   ]
  },
  {
   "cell_type": "markdown",
   "metadata": {},
   "source": [
    "**[2.6]** Inside the `main.py` file, import FastAPI from fastapi, JSONResponse from starlette.responses, load from joblib and pandas\n",
    "\n",
    "**[2.7]** Inside the `main.py` file, instantiate a FastAPI() class and save it into a variable called `app`\n",
    "\n",
    "**[2.8]** Inside the `main.py` file, load your trained model from `models` folder and save it into a variable called `gmm_pipe`\n",
    "\n",
    "**[2.9]** Inside the `main.py` file, create a function called `read_root()` that will return a dictionary with `Hello` as key and `World` as value. Add a decorator to it in order to add a GET endpoint to `app` on the root\n",
    "\n",
    "**[2.10]** Inside the `main.py` file, create a function called `healthcheck()` that will return `GMM Clustering is all ready to go!`. Add a decorator to it in order to add a GET endpoint to `app` on `/health` with status code `200`\n",
    "\n",
    "**[2.11]** Inside the `main.py` file, create a function called `format_features()` with `genre`,\t`age`, `income` and `spending` as input parameters that will return a dictionary with the names of the features as keys and the inpot parameters as lists\n",
    "\n",
    "**[2.12]** Inside the `main.py` file, Define a function called `predict` with the following logics:\n",
    "- input parameters: `genre`,\t`age`, `income` and `spending`\n",
    "- logics: format the input parameters as dict, convert it to a dataframe and make prediction with `gmm_pipe`\n",
    "- output: prediction as json\n",
    "\n",
    "Add a decorator to it in order to add a GET endpoint to `app` on `/mall/customers/segmentation`"
   ]
  },
  {
   "cell_type": "code",
   "execution_count": null,
   "metadata": {},
   "outputs": [],
   "source": [
    "# Inside the main.py file\n",
    "\n",
    "# import FastAPI from fastapi, JSONResponse from starlette.responses, load from joblib and pandas\n",
    "from fastapi import FastAPI\n",
    "from starlette.responses import JSONResponse\n",
    "from joblib import load\n",
    "import pandas as pd\n",
    "\n",
    "# instantiate a FastAPI() class and save it into a variable called app\n",
    "app = FastAPI()\n",
    "\n",
    "# load your trained model from models folder and save it into a variable called gmm_pipe\n",
    "gmm_pipe = load('../models/pytorch_multi_beer_style.pt')\n",
    "\n",
    "# create a function called read_root() that will return a dictionary with Hello as key and World as value. Add a decorator to it in order to add a GET endpoint to app on the root\n",
    "@app.get(\"/\")\n",
    "def read_root():\n",
    "    return {\"Hello\": \"World\"}\n",
    "\n",
    "# create a function called healthcheck() that will return GMM Clustering is all ready to go!. Add a decorator to it in order to add a GET endpoint to app on /health with status code 200\n",
    "@app.get('/health', status_code=200)\n",
    "def healthcheck():\n",
    "    return 'GMM Clustering is all ready to go!'\n",
    "\n",
    "# create a function called format_features() with genre, age, income and spending as input parameters that will return a dictionary with the names of the features as keys and the inpot parameters as lists\n",
    "def format_features(genre: str,\tage: int, income: int, spending: int):\n",
    "    return {\n",
    "        'Gender': [genre],\n",
    "        'Age': [age],\n",
    "        'Annual Income (k$)': [income],\n",
    "        'Spending Score (1-100)': [spending]\n",
    "    }\n",
    "\n",
    "# define a function called predict\n",
    "@app.get(\"/mall/customers/segmentation\")\n",
    "def predict(genre: str,\tage: int, income: int, spending: int):\n",
    "    features = format_features(genre,\tage, income, spending)\n",
    "    obs = pd.DataFrame(features)\n",
    "    pred = gmm_pipe.predict(obs)\n",
    "    return JSONResponse(pred.tolist())"
   ]
  },
  {
   "cell_type": "markdown",
   "metadata": {},
   "source": [
    "**[2.13]** Add you changes to git staging area and commit them"
   ]
  },
  {
   "cell_type": "code",
   "execution_count": null,
   "metadata": {},
   "outputs": [],
   "source": [
    "\"\"\"\n",
    "# Add you changes to git staging area and commit them\n",
    "git add .\n",
    "git commit -m \"init\"\n",
    "\"\"\""
   ]
  },
  {
   "cell_type": "markdown",
   "metadata": {},
   "source": [
    "**[2.14]** Build the image from the Dockerfile"
   ]
  },
  {
   "cell_type": "code",
   "execution_count": null,
   "metadata": {},
   "outputs": [],
   "source": [
    "# Build the image from the Dockerfile\n",
    "docker build -t gmm-fastapi:latest ."
   ]
  },
  {
   "cell_type": "markdown",
   "metadata": {},
   "source": [
    "**[2.15]** Run the built image with port 8080 mapped to 80"
   ]
  },
  {
   "cell_type": "code",
   "execution_count": null,
   "metadata": {},
   "outputs": [],
   "source": [
    "# Run the built image with port 8080 ma\n",
    "docker run -dit --rm --name adsi_at2_fastapi -p 8080:80 gmm-fastapi:latest"
   ]
  },
  {
   "cell_type": "markdown",
   "metadata": {},
   "source": [
    "**[2.15]** Open a browser and navigate through:\n",
    "\n",
    "http://localhost:8080\n",
    "\n",
    "http://localhost:8080/health\n",
    "\n",
    "http://localhost:8080/docs"
   ]
  },
  {
   "cell_type": "markdown",
   "metadata": {},
   "source": [
    "**[2.16]** In your browser, copy-paste http://localhost:8080/mall/customers/segmentation?genre=Female&age=65&income=38&spending=35\n",
    "\n",
    "**[2.17]** Stop the docker container"
   ]
  },
  {
   "cell_type": "code",
   "execution_count": null,
   "metadata": {},
   "outputs": [],
   "source": [
    "# Stop the docker container\n",
    "docker stop adsi_at2_fastapi"
   ]
  },
  {
   "cell_type": "markdown",
   "metadata": {},
   "source": [
    "### 3. Deploy to Heroku\n",
    "\n",
    "**[3.1]** Login into heroku via command line\n",
    "\n",
    "**[3.2]** Create a heroku project via command line\n",
    "\n",
    "**[3.3]** Create a file called `heroku.yml` with the following content:\n",
    "\n",
    "<img src='https://drive.google.com/uc?id=1KbVLa2IL48F0aysgpsXTNXUXCgPbQ7dC' width=\"400\" height=\"150\">\n"
   ]
  },
  {
   "cell_type": "code",
   "execution_count": null,
   "metadata": {},
   "outputs": [],
   "source": [
    "# Login into heroku via command line\n",
    "heroku login\n",
    "\n",
    "# Create a heroku project via command line\n",
    "heroku create\n",
    "\n",
    "# Create a file called heroku.yml\n",
    "nano heroku.yml"
   ]
  },
  {
   "cell_type": "markdown",
   "metadata": {},
   "source": [
    "**[3.4]** Add you changes to git staging area and commit them\n"
   ]
  },
  {
   "cell_type": "code",
   "execution_count": null,
   "metadata": {},
   "outputs": [],
   "source": [
    "# Add you changes to git staging area and commit them\n",
    "git add .\n",
    "git commit -m \"heroku_nn\""
   ]
  },
  {
   "cell_type": "markdown",
   "metadata": {},
   "source": [
    "**[3.5]** Set the stack of your app to `container`"
   ]
  },
  {
   "cell_type": "code",
   "execution_count": null,
   "metadata": {},
   "outputs": [],
   "source": [
    "# Push your change to heroku\n",
    "git push heroku fastapi:master"
   ]
  },
  {
   "cell_type": "markdown",
   "metadata": {},
   "source": [
    "**[3.7]** On your browser go to the heroku page https://<project_name>.herokuapp.com/docs\n",
    "\n",
    "like:\n",
    "\n",
    "https://fast-temple-40998.herokuapp.com/docs"
   ]
  },
  {
   "cell_type": "markdown",
   "metadata": {},
   "source": [
    "**[3.8]** On your browser go to the heroku page\n",
    "https://<project_name>.herokuapp.com/mall/customers/segmentation/params?genre=Female&age=65&income=38&spending=35\n",
    "\n",
    "like:\n",
    "\n",
    "https://fast-temple-40998.herokuapp.com/mall/customers/segmentation/params?genre=Female&age=65&income=38&spending=35"
   ]
  },
  {
   "cell_type": "markdown",
   "metadata": {},
   "source": [
    "### 4.   Push changes\n",
    "\n",
    "**[4.1]** Push your snapshot to Github\n",
    "\n",
    "**[4.2]** Check out to the master branch\n",
    "\n",
    "**[4.3]** Pull the latest updates\n",
    "\n",
    "**[4.4]** Check out to the `fastapi` branch\n",
    "\n",
    "**[4.5]** Merge the `master` branch and push your changes\n",
    "\n",
    "**[4.6]** Go to Github and merge the branch after reviewing the code and fixing any conflict"
   ]
  },
  {
   "cell_type": "code",
   "execution_count": null,
   "metadata": {},
   "outputs": [],
   "source": [
    "\"\"\"\n",
    "# Push your snapshot to Github\n",
    "git push https://<insert_pat>@github.com/CazMayhem/adsi_at2_nn_api.git\n",
    "\n",
    "# Check out to the master branch\n",
    "git checkout master\n",
    "\n",
    "# Pull the latest updates\n",
    "git pull https://<insert_pat>@github.com/CazMayhem/adsi_at2_nn_api.git\n",
    "\n",
    "# Merge the branch pytorch_reg\n",
    "git checkout fastapi\n",
    "\n",
    "# Merge the master branch and push your changes, \n",
    "# any merge issues use: git merge master --allow-unrelated-histories\n",
    "git merge master \n",
    "git push https://<insert_pat>@github.com/CazMayhem/adsi_at2_nn_api.git\n",
    "\n",
    "\"\"\""
   ]
  },
  {
   "cell_type": "code",
   "execution_count": null,
   "metadata": {},
   "outputs": [],
   "source": []
  },
  {
   "cell_type": "code",
   "execution_count": null,
   "metadata": {},
   "outputs": [],
   "source": []
  }
 ],
 "metadata": {
  "kernelspec": {
   "display_name": "Python 3",
   "language": "python",
   "name": "python3"
  },
  "language_info": {
   "codemirror_mode": {
    "name": "ipython",
    "version": 3
   },
   "file_extension": ".py",
   "mimetype": "text/x-python",
   "name": "python",
   "nbconvert_exporter": "python",
   "pygments_lexer": "ipython3",
   "version": "3.7.6"
  }
 },
 "nbformat": 4,
 "nbformat_minor": 4
}
